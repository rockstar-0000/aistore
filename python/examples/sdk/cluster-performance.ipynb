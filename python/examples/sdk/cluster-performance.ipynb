{
 "cells": [
  {
   "cell_type": "markdown",
   "metadata": {},
   "source": [
    "## Monitoring Cluster Performance with Python SDK"
   ]
  },
  {
   "cell_type": "code",
   "execution_count": null,
   "metadata": {},
   "outputs": [],
   "source": [
    "pip install matplotlib ipython aistore"
   ]
  },
  {
   "cell_type": "markdown",
   "metadata": {},
   "source": [
    "### Creating an AIStore Cluster Instance"
   ]
  },
  {
   "cell_type": "code",
   "execution_count": 6,
   "metadata": {},
   "outputs": [],
   "source": [
    "from aistore.sdk import Client\n",
    "\n",
    "# Use the client class to access the AIS cluster:\n",
    "ais_url = \"http://localhost:8080\"\n",
    "client = Client(ais_url)\n",
    "cluster = client.cluster()"
   ]
  },
  {
   "cell_type": "markdown",
   "metadata": {},
   "source": [
    "### Performance Metrics\n",
    "AIStore offers detailed insights into cluster performance through three primary classes: NodeThroughput, NodeLatency, and NodeCounter. Here's a brief overview of each:\n",
    "\n",
    "- NodeThroughput: Measures data processing rates, focusing on the bandwidth for both data reading (GET) and writing (PUT) operations.\n",
    "- NodeLatency: Captures delays in data transfer, offering average sizes for GET and PUT operations and detailing the latency of accessing infrequently used (cold) data.\n",
    "- NodeCounter: Tracks operational events and errors, including counts for various operations (e.g., GET, PUT, DELETE) and specific events like cache evictions or version changes."
   ]
  },
  {
   "cell_type": "code",
   "execution_count": null,
   "metadata": {},
   "outputs": [],
   "source": [
    "cluster_performance = cluster.get_performance()\n",
    "cluster_performance.as_dict()"
   ]
  },
  {
   "cell_type": "markdown",
   "metadata": {},
   "source": [
    "### Metrics in Human Readable Format"
   ]
  },
  {
   "cell_type": "code",
   "execution_count": null,
   "metadata": {},
   "outputs": [],
   "source": [
    "throughput_dict = cluster_performance.throughput\n",
    "for target_id, throughput in throughput_dict.items():\n",
    "    throughput = throughput.as_dict()\n",
    "    print(f\"{target_id}: {throughput}\")"
   ]
  },
  {
   "cell_type": "markdown",
   "metadata": {},
   "source": [
    "### Example - Plotting throughput"
   ]
  },
  {
   "cell_type": "code",
   "execution_count": 2,
   "metadata": {},
   "outputs": [],
   "source": [
    "import matplotlib.pyplot as plt\n",
    "from IPython.display import clear_output\n",
    "import time\n",
    "import numpy as np\n",
    "\n",
    "get_bw_values = []\n",
    "put_bw_values = []\n",
    "\n",
    "\n",
    "# Helper function to convert bandwidth to MB/s\n",
    "def bw_to_mbps(bw_value):\n",
    "    bw_mbps = bw_value / 1e6\n",
    "    return bw_mbps\n",
    "\n",
    "\n",
    "def plot(cluster_performance):\n",
    "    target_ids = list(cluster_performance.throughput.keys())\n",
    "\n",
    "    # Initialize a figure\n",
    "    _, axs = plt.subplots(\n",
    "        len(target_ids), 1, figsize=(10, 5 * len(target_ids)), squeeze=False\n",
    "    )\n",
    "\n",
    "    for idx, target_id in enumerate(target_ids):\n",
    "        throughput_data = cluster_performance.throughput[target_id]\n",
    "        get_bw_values.append(bw_to_mbps(throughput_data.get_bw))\n",
    "        put_bw_values.append(bw_to_mbps(throughput_data.put_bw))\n",
    "        time_steps = np.arange(len(get_bw_values))  # Create a time axis\n",
    "\n",
    "        # Plot \"get\" and \"put\" bandwidth\n",
    "        axs[idx][0].plot(\n",
    "            time_steps, get_bw_values, label=\"GET Bandwidth (MB/s)\", marker=\"o\"\n",
    "        )\n",
    "        axs[idx][0].plot(\n",
    "            time_steps, put_bw_values, label=\"PUT Bandwidth (MB/s)\", marker=\"x\"\n",
    "        )\n",
    "\n",
    "        axs[idx][0].set_title(f\"Node {target_id} Throughput Over Time\")\n",
    "        axs[idx][0].set_xlabel(\"Time\")\n",
    "        axs[idx][0].set_ylabel(\"Bandwidth (MB/s)\")\n",
    "        axs[idx][0].legend()\n",
    "    plt.tight_layout()\n",
    "    plt.show()\n",
    "\n",
    "\n",
    "def plot_live_metrics(cluster, duration, frequency=2):\n",
    "    passed = 0\n",
    "    while True:\n",
    "        cluster_performance = cluster.get_performance()\n",
    "        # Clear the current plot to prepare for the next one\n",
    "        clear_output(wait=True)\n",
    "        plot(cluster_performance)\n",
    "\n",
    "        # Wait before the next update\n",
    "        time.sleep(frequency)\n",
    "        passed += frequency\n",
    "\n",
    "        if passed >= duration:\n",
    "            get_bw_values.clear()\n",
    "            put_bw_values.clear()\n",
    "            break\n",
    "\n",
    "        plt.clf()"
   ]
  },
  {
   "cell_type": "code",
   "execution_count": null,
   "metadata": {},
   "outputs": [],
   "source": [
    "plot_live_metrics(cluster, duration=60, frequency=10)"
   ]
  }
 ],
 "metadata": {
  "kernelspec": {
   "display_name": "Python 3 (ipykernel)",
   "language": "python",
   "name": "python3"
  }
 },
 "nbformat": 4,
 "nbformat_minor": 2
}
