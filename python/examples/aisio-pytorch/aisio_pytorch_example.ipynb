{
 "cells": [
  {
   "cell_type": "markdown",
   "id": "085cf314",
   "metadata": {},
   "source": [
    "# PyTorch: Loading Data from AIStore \n",
    "\n",
    "Listing and loading data from AIS buckets (buckets that are not 3rd party backend-based) and remote cloud buckets (3rd party backend-based cloud buckets) using [AISFileLister](https://pytorch.org/data/main/generated/torchdata.datapipes.iter.AISFileLister.html#aisfilelister) and [AISFileLoader](https://pytorch.org/data/main/generated/torchdata.datapipes.iter.AISFileLoader.html#torchdata.datapipes.iter.AISFileLoader).\n",
    "\n",
    "In the following example, we use the [Caltech-256 Object Category Dataset](https://authors.library.caltech.edu/7694/) containing 256 object categories and a total of 30607 images stored on an AIS bucket and the [Microsoft COCO Dataset](https://cocodataset.org/#home) which has 330K images with over 200K labels of more than 1.5 million object instances across 80 object categories stored on Google Cloud. "
   ]
  },
  {
   "cell_type": "code",
   "execution_count": null,
   "id": "0e9e03de",
   "metadata": {},
   "outputs": [],
   "source": [
    "# Imports\n",
    "import os\n",
    "from IPython.display import Image\n",
    "\n",
    "from torchdata.datapipes.iter import AISFileLister, AISFileLoader, Mapper"
   ]
  },
  {
   "cell_type": "markdown",
   "id": "c42580f7",
   "metadata": {},
   "source": [
    "### Running the AIStore Cluster\n",
    "\n",
    "[AIStore](https://github.com/NVIDIA/aistore) (AIS for short) is a highly available lightweight object storage system that specifically focuses on petascale deep learning. As a reliable redundant storage, AIS supports n-way mirroring and erasure coding. But it is not purely – or not only – a storage system: it’ll shuffle user datasets and run custom extract-transform-load workloads.\n",
    "\n",
    "AIS is an elastic cluster that can grow and shrink at runtime and can be ad-hoc deployed, with or without Kubernetes, anywhere from a single Linux machine to a bare-metal cluster of any size. AIS fully supports Amazon S3, Google Cloud, and Microsoft Azure backends, providing a unified namespace across multiple connected backends and/or other AIS clusters, and [more](https://github.com/NVIDIA/aistore#features).\n",
    "\n",
    "[Getting started with AIS](https://github.com/NVIDIA/aistore/blob/master/docs/getting_started.md) will take only a few minutes (prerequisites boil down to having a Linux with a disk) and can be done either by running a prebuilt [all-in-one docker image](https://github.com/NVIDIA/aistore/tree/master/deploy) or directly from the open-source.\n",
    "\n",
    "To keep this example simple, we will be running a [minimal standalone docker deployment](https://github.com/NVIDIA/aistore/blob/master/deploy/prod/docker/single/README.md) of AIStore."
   ]
  },
  {
   "cell_type": "code",
   "execution_count": null,
   "id": "51204353",
   "metadata": {},
   "outputs": [],
   "source": [
    "# Running the AIStore cluster in a container on port 51080\n",
    "# Note: The mounted path should have enough space to load the dataset\n",
    "\n",
    "! docker run -d \\\n",
    "    -p 51080:51080 \\\n",
    "    -v <path_to_gcp_config>.json:/credentials/gcp.json \\\n",
    "    -e GOOGLE_APPLICATION_CREDENTIALS=\"/credentials/gcp.json\" \\\n",
    "    -e AWS_ACCESS_KEY_ID=\"AWSKEYIDEXAMPLE\" \\\n",
    "    -e AWS_SECRET_ACCESS_KEY=\"AWSSECRETEACCESSKEYEXAMPLE\" \\\n",
    "    -e AWS_DEFAULT_REGION=\"us-east-2\" \\\n",
    "    -e AIS_BACKEND_PROVIDERS=\"gcp aws\" \\\n",
    "    -v /disk0:/ais/disk0 \\\n",
    "    aistore/cluster-minimal:latest\n"
   ]
  },
  {
   "cell_type": "markdown",
   "id": "3b067695",
   "metadata": {},
   "source": [
    "To create and put objects (dataset) in the bucket, I am going to be using [AIS CLI](https://github.com/NVIDIA/aistore/blob/master/docs/cli.md). But we can also use the [Python SDK](https://github.com/NVIDIA/aistore/tree/master/python/aistore) for the same."
   ]
  },
  {
   "cell_type": "code",
   "execution_count": null,
   "id": "730e1053",
   "metadata": {},
   "outputs": [],
   "source": [
    "! ais config cli set cluster.url=http://localhost:51080\n",
    "\n",
    "# create bucket using AIS CLI\n",
    "! ais bucket create caltech256\n",
    "\n",
    "# put the downloaded dataset in the created AIS bucket\n",
    "! ais object put -r -y <path_to_dataset> ais://caltech256/"
   ]
  },
  {
   "cell_type": "markdown",
   "id": "b24bf6a8",
   "metadata": {},
   "source": [
    "### Preloaded dataset\n",
    "\n",
    "The following assumes that AIS cluster is running and one of its buckets contains Caltech-256 dataset."
   ]
  },
  {
   "cell_type": "code",
   "execution_count": null,
   "id": "f26495b1",
   "metadata": {},
   "outputs": [],
   "source": [
    "# list of prefixes which contain data\n",
    "image_prefix = [\"ais://caltech256/\"]\n",
    "\n",
    "# Listing all files starting with these prefixes on AIStore\n",
    "dp_urls = AISFileLister(url=\"http://localhost:51080\", source_datapipe=image_prefix)\n",
    "\n",
    "# list first 5 obj urls\n",
    "list(dp_urls)[:5]"
   ]
  },
  {
   "cell_type": "code",
   "execution_count": null,
   "id": "eb311250",
   "metadata": {},
   "outputs": [],
   "source": [
    "# loading data using AISFileLoader\n",
    "dp_files = AISFileLoader(url=\"http://localhost:51080\", source_datapipe=dp_urls)\n",
    "\n",
    "# check the first obj\n",
    "url, img = next(iter(dp_files))\n",
    "\n",
    "print(f\"image url: {url}\")\n",
    "Image(data=img.read())"
   ]
  },
  {
   "cell_type": "code",
   "execution_count": null,
   "id": "dd521f6a",
   "metadata": {},
   "outputs": [],
   "source": [
    "def collate_sample(data):\n",
    "    path, image = data\n",
    "    dir = os.path.split(os.path.dirname(path))[1]\n",
    "    label_str, cls = dir.split(\".\")\n",
    "    return {\"path\": path, \"image\": image, \"label\": int(label_str), \"cls\": cls}"
   ]
  },
  {
   "cell_type": "code",
   "execution_count": null,
   "id": "39737c3f",
   "metadata": {},
   "outputs": [],
   "source": [
    "# passing it further down the pipeline\n",
    "for _sample in Mapper(dp_files, collate_sample):\n",
    "    pass"
   ]
  },
  {
   "cell_type": "markdown",
   "id": "9044a1cd",
   "metadata": {},
   "source": [
    "### Remote cloud buckets\n",
    "\n",
    "AIStore supports multiple [remote backends](https://aiatscale.org/docs/providers). With AIS, accessing cloud buckets doesn't require any additional setup assuming, of course, that you have the corresponding credentials (to access cloud buckets).\n",
    "\n",
    "For the following example, AIStore must be built and linked with the remote cloud provider backend which contains the dataset."
   ]
  },
  {
   "cell_type": "code",
   "execution_count": null,
   "id": "2cd03757",
   "metadata": {},
   "outputs": [],
   "source": [
    "# list of prefixes which contain data\n",
    "gcp_prefix = [\"gcp://webdataset-testing/\"]\n",
    "\n",
    "# Listing all files starting with these prefixes on AIStore\n",
    "gcp_urls = AISFileLister(url=\"http://localhost:51080\", source_datapipe=gcp_prefix)\n",
    "\n",
    "# list first 5 obj urls\n",
    "list(gcp_urls)[:5]"
   ]
  },
  {
   "cell_type": "code",
   "execution_count": null,
   "id": "bccce8e6",
   "metadata": {},
   "outputs": [],
   "source": [
    "dp_files = AISFileLoader(url=\"http://localhost:51080\", source_datapipe=gcp_urls)"
   ]
  },
  {
   "cell_type": "code",
   "execution_count": null,
   "id": "ce89bc91",
   "metadata": {},
   "outputs": [],
   "source": [
    "for url, file in dp_files.load_from_tar():\n",
    "    pass"
   ]
  },
  {
   "cell_type": "markdown",
   "id": "be29de09",
   "metadata": {},
   "source": [
    "### References\n",
    "- [AIStore](https://github.com/NVIDIA/aistore)\n",
    "- [AIStore Blog](https://aiatscale.org/blog)\n",
    "- [AIS CLI](https://github.com/NVIDIA/aistore/blob/master/docs/cli.md)\n",
    "- [AIStore Cloud Backend Providers](https://aiatscale.org/docs/providers)\n",
    "- [AIStore Documentation](https://aiatscale.org/docs)\n",
    "- [AIStore Python SDK](https://github.com/NVIDIA/aistore/tree/master/python/aistore)\n",
    "- [Caltech 256 Dataset](https://authors.library.caltech.edu/7694/)\n",
    "- [Getting started with AIStore](https://github.com/NVIDIA/aistore/blob/master/docs/getting_started.md)\n",
    "- [Microsoft COCO Dataset](https://cocodataset.org/#home)\n"
   ]
  }
 ],
 "metadata": {
  "kernelspec": {
   "display_name": "Python 3 (ipykernel)",
   "language": "python",
   "name": "python3"
  },
  "language_info": {
   "codemirror_mode": {
    "name": "ipython",
    "version": 3
   },
   "file_extension": ".py",
   "mimetype": "text/x-python",
   "name": "python",
   "nbconvert_exporter": "python",
   "pygments_lexer": "ipython3",
   "version": "3.8.10"
  }
 },
 "nbformat": 4,
 "nbformat_minor": 5
}
